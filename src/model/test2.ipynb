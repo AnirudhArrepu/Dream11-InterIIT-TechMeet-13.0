{
 "cells": [
  {
   "cell_type": "code",
   "execution_count": null,
   "metadata": {
    "vscode": {
     "languageId": "plaintext"
    }
   },
   "outputs": [],
   "source": [
    "import tensorflow as tf\n",
    "from tensorflow import keras\n",
    "from keras import layers, models, regularizers\n",
    "import numpy as np\n",
    "import pandas as pd\n",
    "\n",
    "# Define a custom Huber Loss function\n",
    "def huber_loss(delta=1.0):\n",
    "    def loss(y_true, y_pred):\n",
    "        error = tf.abs(y_true - y_pred)\n",
    "        is_small_error = error <= delta\n",
    "        small_error_loss = 0.5 * tf.square(error)\n",
    "        large_error_loss = delta * (error - 0.5 * delta)\n",
    "        return tf.where(is_small_error, small_error_loss, large_error_loss)\n",
    "    return loss\n",
    "\n",
    "# Define the model\n",
    "model = models.Sequential([\n",
    "    layers.Dense(128, activation='relu', input_shape=(X_train.shape[1],),\n",
    "                kernel_regularizer=regularizers.l2(0.01)),\n",
    "    layers.Dense(64, activation='relu',\n",
    "                kernel_regularizer=regularizers.l2(0.01)),\n",
    "    layers.Dense(32, activation='relu',\n",
    "                kernel_regularizer=regularizers.l2(0.01)),\n",
    "    layers.Dense(16, activation='relu',\n",
    "                kernel_regularizer=regularizers.l2(0.01)),\n",
    "    layers.Dense(1)  # Output layer for regression\n",
    "])\n",
    "\n",
    "# Compile the model\n",
    "model.compile(optimizer='adam', loss=huber_loss(delta=1.0), metrics=['mae'])\n",
    "\n",
    "# Print the model summary\n",
    "model.summary()\n",
    "\n",
    "# Train the model\n",
    "model.fit(X_train, y_train, epochs=50, batch_size=32, validation_split=0.2)\n",
    "\n",
    "# Example evaluation (replace with your validation/test data)\n",
    "loss, mae = model.evaluate(X_test, y_test)\n",
    "print(f'Loss: {loss}, MAE: {mae}')"
   ]
  },
  {
   "cell_type": "code",
   "execution_count": null,
   "metadata": {
    "vscode": {
     "languageId": "plaintext"
    }
   },
   "outputs": [],
   "source": [
    "# Predict on test data\n",
    "y_pred = model.predict(X_test)\n",
    "\n",
    "# Print some predictions alongside true values for comparison\n",
    "for true, pred in zip(y_test[:10], y_pred[:10]):\n",
    "    print(f\"True Value: {true}, Predicted Value: {pred[0]}\")\n",
    "\n"
   ]
  },
  {
   "cell_type": "code",
   "execution_count": null,
   "metadata": {
    "vscode": {
     "languageId": "plaintext"
    }
   },
   "outputs": [],
   "source": [
    "from sklearn.metrics import r2_score\n",
    "\n",
    "# Compute R-squared\n",
    "r2 = r2_score(y_test, y_pred)\n",
    "print(f\"R-squared Score: {r2}\")\n"
   ]
  },
  {
   "cell_type": "code",
   "execution_count": null,
   "metadata": {
    "vscode": {
     "languageId": "plaintext"
    }
   },
   "outputs": [],
   "source": [
    "from sklearn.metrics import mean_squared_error\n",
    "\n",
    "# Compute MSE\n",
    "mse = mean_squared_error(y_test, y_pred)\n",
    "print(f\"Mean Squared Error (MSE): {mse}\")\n"
   ]
  },
  {
   "cell_type": "code",
   "execution_count": null,
   "metadata": {
    "vscode": {
     "languageId": "plaintext"
    }
   },
   "outputs": [],
   "source": [
    "import matplotlib.pyplot as plt\n",
    "\n",
    "plt.figure(figsize=(8, 6))\n",
    "plt.scatter(y_test, y_pred, alpha=0.7)\n",
    "plt.plot([min(y_test), max(y_test)], [min(y_test), max(y_test)], 'r--')  # Ideal line\n",
    "plt.xlabel(\"True Values\")\n",
    "plt.ylabel(\"Predicted Values\")\n",
    "plt.title(\"True vs Predicted Values\")\n",
    "plt.show()\n"
   ]
  },
  {
   "cell_type": "code",
   "execution_count": null,
   "metadata": {
    "vscode": {
     "languageId": "plaintext"
    }
   },
   "outputs": [],
   "source": [
    "residuals = y_test - y_pred.flatten()\n",
    "plt.figure(figsize=(8, 6))\n",
    "plt.hist(residuals, bins=20, edgecolor='k', alpha=0.7)\n",
    "plt.xlabel(\"Residuals\")\n",
    "plt.ylabel(\"Frequency\")\n",
    "plt.title(\"Distribution of Residuals\")\n",
    "plt.show()\n"
   ]
  }
 ],
 "metadata": {
  "language_info": {
   "name": "python"
  }
 },
 "nbformat": 4,
 "nbformat_minor": 2
}
